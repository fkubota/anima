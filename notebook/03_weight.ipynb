{
 "cells": [
  {
   "cell_type": "markdown",
   "metadata": {},
   "source": [
    "# Overview\n",
    "[論文](https://interactiveaudiolab.github.io/project/ised.html) にあるweightを試してみる"
   ]
  },
  {
   "cell_type": "code",
   "execution_count": 1,
   "metadata": {},
   "outputs": [],
   "source": [
    "import numpy as np\n",
    "import pandas as pd\n",
    "import librosa"
   ]
  },
  {
   "cell_type": "markdown",
   "metadata": {},
   "source": [
    "# Const"
   ]
  },
  {
   "cell_type": "code",
   "execution_count": null,
   "metadata": {},
   "outputs": [],
   "source": []
  },
  {
   "cell_type": "markdown",
   "metadata": {},
   "source": [
    "# Import everything I need :)"
   ]
  },
  {
   "cell_type": "code",
   "execution_count": null,
   "metadata": {},
   "outputs": [],
   "source": []
  },
  {
   "cell_type": "markdown",
   "metadata": {},
   "source": [
    "# My function"
   ]
  },
  {
   "cell_type": "code",
   "execution_count": 2,
   "metadata": {},
   "outputs": [],
   "source": [
    "def feature_extraction(wav):\n",
    "    feats = librosa.feature.mfcc(wav, sr=sr, n_fft=2048, hop_length=1024, n_mels=12).T\n",
    "    feat_names = [f'mfcc_{i+1}' for i in range(feats.shape[1])]\n",
    "    return feats, feat_names\n",
    "\n",
    "def weighted_euclidean_distance(a,b,w=None):\n",
    "    '''\n",
    "    重み付きユークリッド距離の計算\n",
    "    '''\n",
    "    if w is None:\n",
    "        distance = np.linalg.norm(a-b)\n",
    "    else:\n",
    "        distance = np.sqrt((np.power(a-b,2)*w).sum())\n",
    "    return distance\n",
    "\n",
    "\n"
   ]
  },
  {
   "cell_type": "markdown",
   "metadata": {},
   "source": [
    "# Preparation"
   ]
  },
  {
   "cell_type": "code",
   "execution_count": 3,
   "metadata": {},
   "outputs": [],
   "source": [
    "path = librosa.util.example_audio_file()\n",
    "signal, sr = librosa.load(path, sr=None)"
   ]
  },
  {
   "cell_type": "markdown",
   "metadata": {},
   "source": [
    "# EDA"
   ]
  },
  {
   "cell_type": "markdown",
   "metadata": {},
   "source": [
    "feature extraction"
   ]
  },
  {
   "cell_type": "code",
   "execution_count": 4,
   "metadata": {},
   "outputs": [
    {
     "data": {
      "text/html": [
       "<div>\n",
       "<style scoped>\n",
       "    .dataframe tbody tr th:only-of-type {\n",
       "        vertical-align: middle;\n",
       "    }\n",
       "\n",
       "    .dataframe tbody tr th {\n",
       "        vertical-align: top;\n",
       "    }\n",
       "\n",
       "    .dataframe thead th {\n",
       "        text-align: right;\n",
       "    }\n",
       "</style>\n",
       "<table border=\"1\" class=\"dataframe\">\n",
       "  <thead>\n",
       "    <tr style=\"text-align: right;\">\n",
       "      <th></th>\n",
       "      <th>mfcc_1</th>\n",
       "      <th>mfcc_2</th>\n",
       "      <th>mfcc_3</th>\n",
       "      <th>mfcc_4</th>\n",
       "      <th>mfcc_5</th>\n",
       "      <th>mfcc_6</th>\n",
       "      <th>mfcc_7</th>\n",
       "      <th>mfcc_8</th>\n",
       "      <th>mfcc_9</th>\n",
       "      <th>mfcc_10</th>\n",
       "      <th>mfcc_11</th>\n",
       "      <th>mfcc_12</th>\n",
       "    </tr>\n",
       "  </thead>\n",
       "  <tbody>\n",
       "    <tr>\n",
       "      <th>0</th>\n",
       "      <td>-212.081039</td>\n",
       "      <td>0.000000</td>\n",
       "      <td>0.000000</td>\n",
       "      <td>0.000000</td>\n",
       "      <td>0.000000</td>\n",
       "      <td>0.000000</td>\n",
       "      <td>0.000000</td>\n",
       "      <td>0.000000</td>\n",
       "      <td>0.000000</td>\n",
       "      <td>0.000000</td>\n",
       "      <td>0.000000</td>\n",
       "      <td>0.000000</td>\n",
       "    </tr>\n",
       "    <tr>\n",
       "      <th>1</th>\n",
       "      <td>-212.081039</td>\n",
       "      <td>0.000000</td>\n",
       "      <td>0.000000</td>\n",
       "      <td>0.000000</td>\n",
       "      <td>0.000000</td>\n",
       "      <td>0.000000</td>\n",
       "      <td>0.000000</td>\n",
       "      <td>0.000000</td>\n",
       "      <td>0.000000</td>\n",
       "      <td>0.000000</td>\n",
       "      <td>0.000000</td>\n",
       "      <td>0.000000</td>\n",
       "    </tr>\n",
       "    <tr>\n",
       "      <th>2</th>\n",
       "      <td>-160.641159</td>\n",
       "      <td>49.521942</td>\n",
       "      <td>13.455418</td>\n",
       "      <td>3.512819</td>\n",
       "      <td>6.613252</td>\n",
       "      <td>4.336565</td>\n",
       "      <td>3.701090</td>\n",
       "      <td>6.923334</td>\n",
       "      <td>6.947918</td>\n",
       "      <td>4.608919</td>\n",
       "      <td>2.748719</td>\n",
       "      <td>1.054068</td>\n",
       "    </tr>\n",
       "    <tr>\n",
       "      <th>3</th>\n",
       "      <td>-102.801865</td>\n",
       "      <td>46.821899</td>\n",
       "      <td>10.864933</td>\n",
       "      <td>8.146544</td>\n",
       "      <td>3.715330</td>\n",
       "      <td>3.729124</td>\n",
       "      <td>2.970446</td>\n",
       "      <td>2.644935</td>\n",
       "      <td>2.137774</td>\n",
       "      <td>2.442241</td>\n",
       "      <td>2.053600</td>\n",
       "      <td>1.135120</td>\n",
       "    </tr>\n",
       "    <tr>\n",
       "      <th>4</th>\n",
       "      <td>-112.086372</td>\n",
       "      <td>62.333778</td>\n",
       "      <td>14.554937</td>\n",
       "      <td>4.287053</td>\n",
       "      <td>-0.336102</td>\n",
       "      <td>2.677585</td>\n",
       "      <td>3.859431</td>\n",
       "      <td>3.544301</td>\n",
       "      <td>2.320043</td>\n",
       "      <td>2.177028</td>\n",
       "      <td>1.910837</td>\n",
       "      <td>1.199781</td>\n",
       "    </tr>\n",
       "  </tbody>\n",
       "</table>\n",
       "</div>"
      ],
      "text/plain": [
       "       mfcc_1     mfcc_2     mfcc_3    mfcc_4    mfcc_5    mfcc_6    mfcc_7  \\\n",
       "0 -212.081039   0.000000   0.000000  0.000000  0.000000  0.000000  0.000000   \n",
       "1 -212.081039   0.000000   0.000000  0.000000  0.000000  0.000000  0.000000   \n",
       "2 -160.641159  49.521942  13.455418  3.512819  6.613252  4.336565  3.701090   \n",
       "3 -102.801865  46.821899  10.864933  8.146544  3.715330  3.729124  2.970446   \n",
       "4 -112.086372  62.333778  14.554937  4.287053 -0.336102  2.677585  3.859431   \n",
       "\n",
       "     mfcc_8    mfcc_9   mfcc_10   mfcc_11   mfcc_12  \n",
       "0  0.000000  0.000000  0.000000  0.000000  0.000000  \n",
       "1  0.000000  0.000000  0.000000  0.000000  0.000000  \n",
       "2  6.923334  6.947918  4.608919  2.748719  1.054068  \n",
       "3  2.644935  2.137774  2.442241  2.053600  1.135120  \n",
       "4  3.544301  2.320043  2.177028  1.910837  1.199781  "
      ]
     },
     "execution_count": 4,
     "metadata": {},
     "output_type": "execute_result"
    }
   ],
   "source": [
    "feats, feat_names = feature_extraction(signal)\n",
    "df_feat = pd.DataFrame(feats, columns=feat_names)\n",
    "df_feat.head()"
   ]
  },
  {
   "cell_type": "code",
   "execution_count": 5,
   "metadata": {},
   "outputs": [
    {
     "name": "stderr",
     "output_type": "stream",
     "text": [
      "/usr/local/lib/python3.6/dist-packages/ipykernel_launcher.py:3: SettingWithCopyWarning: \n",
      "A value is trying to be set on a copy of a slice from a DataFrame.\n",
      "Try using .loc[row_indexer,col_indexer] = value instead\n",
      "\n",
      "See the caveats in the documentation: https://pandas.pydata.org/pandas-docs/stable/user_guide/indexing.html#returning-a-view-versus-a-copy\n",
      "  This is separate from the ipykernel package so we can avoid doing imports until\n"
     ]
    }
   ],
   "source": [
    "n_row = len(df_feat)\n",
    "df_feat['label'] = 'Positive'\n",
    "df_feat.iloc[0:1000, :]['label'] = 'Negative'"
   ]
  },
  {
   "cell_type": "code",
   "execution_count": 6,
   "metadata": {},
   "outputs": [
    {
     "data": {
      "text/plain": [
       "Positive    1647\n",
       "Negative    1000\n",
       "Name: label, dtype: int64"
      ]
     },
     "execution_count": 6,
     "metadata": {},
     "output_type": "execute_result"
    }
   ],
   "source": [
    "df_feat['label'].value_counts()"
   ]
  },
  {
   "cell_type": "markdown",
   "metadata": {},
   "source": [
    "<br>\n",
    "\n",
    "weghit の計算\n",
    "\n",
    "- 定義は以下\n",
    "\n",
    "$$\n",
    "w(i)=\\frac{\\left(\\operatorname{avg}\\left(f_{i}^{p}\\right)-\\operatorname{avg}\\left(f_{i}^{n}\\right)\\right)^{2}}{\\operatorname{std}\\left(f_{i}^{p}\\right)^{2}+\\operatorname{std}\\left(f_{i}^{n}\\right)^{2}}\n",
    "$$"
   ]
  },
  {
   "cell_type": "code",
   "execution_count": 7,
   "metadata": {},
   "outputs": [],
   "source": [
    "idxs = df_feat['label'].values == 'Positive'\n",
    "df_p = df_feat[idxs].drop(['label'], axis=1)\n",
    "idxs = df_feat['label'].values == 'Negative'\n",
    "df_n = df_feat[idxs].drop('label', axis=1)"
   ]
  },
  {
   "cell_type": "code",
   "execution_count": 8,
   "metadata": {},
   "outputs": [],
   "source": [
    "posi_mean = df_p.mean(axis=0)\n",
    "posi_std = np.std(df_p, axis=0)\n",
    "nega_mean = df_n.mean(axis=0)\n",
    "nega_std = np.std(df_n, axis=0)\n",
    "w = (posi_mean - nega_mean)**2/ (posi_std ** 2 + nega_std ** 2)"
   ]
  },
  {
   "cell_type": "code",
   "execution_count": 9,
   "metadata": {},
   "outputs": [],
   "source": [
    "distance = np.sqrt((np.power(posi_mean - nega_mean, 2)*w).sum())"
   ]
  },
  {
   "cell_type": "code",
   "execution_count": null,
   "metadata": {},
   "outputs": [],
   "source": []
  },
  {
   "cell_type": "code",
   "execution_count": 13,
   "metadata": {},
   "outputs": [
    {
     "data": {
      "text/plain": [
       "(2647, 12)"
      ]
     },
     "execution_count": 13,
     "metadata": {},
     "output_type": "execute_result"
    }
   ],
   "source": [
    "mfcc = librosa.feature.mfcc(signal, sr=sr, n_fft=2048, hop_length=1024, n_mels=12).T\n",
    "mfcc.shape"
   ]
  },
  {
   "cell_type": "code",
   "execution_count": 18,
   "metadata": {},
   "outputs": [
    {
     "data": {
      "text/plain": [
       "(2647, 1)"
      ]
     },
     "execution_count": 18,
     "metadata": {},
     "output_type": "execute_result"
    }
   ],
   "source": [
    "roll_off = librosa.feature.spectral_rolloff(y=signal, n_fft=2048, hop_length=1024).T\n",
    "roll_off.shape"
   ]
  },
  {
   "cell_type": "code",
   "execution_count": 20,
   "metadata": {},
   "outputs": [
    {
     "data": {
      "text/plain": [
       "(2647, 1)"
      ]
     },
     "execution_count": 20,
     "metadata": {},
     "output_type": "execute_result"
    }
   ],
   "source": [
    "zcr = librosa.feature.zero_crossing_rate(y=signal, hop_length=1024).T\n",
    "zcr.shape"
   ]
  },
  {
   "cell_type": "code",
   "execution_count": null,
   "metadata": {},
   "outputs": [],
   "source": []
  },
  {
   "cell_type": "markdown",
   "metadata": {},
   "source": [
    "\n",
    "\n",
    "\n",
    "\n",
    "\n",
    "\n",
    "\n",
    "\n",
    "\n",
    "\n",
    "\n",
    "\n",
    "\n",
    "\n",
    "\n",
    "\n",
    "\n",
    "\n",
    "\n",
    "\n",
    "\n",
    "\n"
   ]
  }
 ],
 "metadata": {
  "kernelspec": {
   "display_name": "Python 3",
   "language": "python",
   "name": "python3"
  },
  "language_info": {
   "codemirror_mode": {
    "name": "ipython",
    "version": 3
   },
   "file_extension": ".py",
   "mimetype": "text/x-python",
   "name": "python",
   "nbconvert_exporter": "python",
   "pygments_lexer": "ipython3",
   "version": "3.6.10"
  }
 },
 "nbformat": 4,
 "nbformat_minor": 4
}
